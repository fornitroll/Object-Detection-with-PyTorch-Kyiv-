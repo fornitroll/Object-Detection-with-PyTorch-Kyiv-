{
  "nbformat": 4,
  "nbformat_minor": 0,
  "metadata": {
    "colab": {
      "name": "Copy of Lecture 1. PyTorch Basics.ipynb",
      "provenance": [],
      "collapsed_sections": [],
      "toc_visible": true,
      "include_colab_link": true
    },
    "kernelspec": {
      "name": "python3",
      "display_name": "Python 3"
    },
    "accelerator": "GPU"
  },
  "cells": [
    {
      "cell_type": "markdown",
      "metadata": {
        "id": "view-in-github",
        "colab_type": "text"
      },
      "source": [
        "<a href=\"https://colab.research.google.com/github/fornitroll/Object-Detection-with-PyTorch-Kyiv-/blob/master/Lecture1%20PyTorch%20Basics.ipynb\" target=\"_parent\"><img src=\"https://colab.research.google.com/assets/colab-badge.svg\" alt=\"Open In Colab\"/></a>"
      ]
    },
    {
      "cell_type": "markdown",
      "metadata": {
        "id": "zPut-w9sn7Cl",
        "colab_type": "text"
      },
      "source": [
        "Welcome! This is our first lecture in this course and I'm glad to see you here. \n",
        "\n",
        "My name is Andrey Nikishaev and I will lead this course where I'll try to teach you as much possible based on my experience in this area.\n",
        "\n",
        "So the course will go for 3 weeks with 2 lectures in each. \n",
        "\n",
        "Questions that may arise during the class you can ask on our Course GitHub page in the Issues: https://github.com/learnml-today/object-detection-with-pytorch\n",
        "\n",
        "\n",
        "# PyTorch Basics\n",
        "\n",
        "What we will learn in this lecture:\n",
        "\n",
        "\n",
        "1.   Static vs Dynamic graphs.\n",
        "2.   Basics operations, functions, Serialization, etc.\n",
        "3.   Autograd.\n",
        "4.   Torch.nn. \n",
        "6.   Torchvision. DataLoading, Transformers.\n",
        "7.   Hub & Ecosystem\n",
        "\n"
      ]
    },
    {
      "cell_type": "code",
      "metadata": {
        "id": "sVJGlX_9Mkqo",
        "colab_type": "code",
        "outputId": "d0ea6855-e2cb-4648-ae8a-55c0726915a3",
        "colab": {
          "base_uri": "https://localhost:8080/",
          "height": 102
        }
      },
      "source": [
        "# using latest version of PyTorch\n",
        "!pip install --upgrade torch torchvision"
      ],
      "execution_count": 1,
      "outputs": [
        {
          "output_type": "stream",
          "text": [
            "Requirement already up-to-date: torch in /usr/local/lib/python3.6/dist-packages (1.3.1)\n",
            "Requirement already up-to-date: torchvision in /usr/local/lib/python3.6/dist-packages (0.4.2)\n",
            "Requirement already satisfied, skipping upgrade: numpy in /usr/local/lib/python3.6/dist-packages (from torch) (1.17.5)\n",
            "Requirement already satisfied, skipping upgrade: six in /usr/local/lib/python3.6/dist-packages (from torchvision) (1.12.0)\n",
            "Requirement already satisfied, skipping upgrade: pillow>=4.1.1 in /usr/local/lib/python3.6/dist-packages (from torchvision) (6.2.2)\n"
          ],
          "name": "stdout"
        }
      ]
    },
    {
      "cell_type": "markdown",
      "metadata": {
        "id": "oOaBN4jii-6F",
        "colab_type": "text"
      },
      "source": [
        "## Static vs Dynamic Graphs\n",
        "\n",
        "PyTorch is used Dynamic Graphs, while many other frameworks like Tensorflow(v2 right now use both static and dynamic graphs), MXNet\n",
        "\n",
        "The difference here is very similar to the difference between dynamic and static programming languages.\n",
        "\n",
        "#### Static Graph:\n",
        "\n",
        "Is consists of two steps. First declaring graph by setting input/output shapes of tensors, operations, etc. Second is execution when you push your data through all graph elements to get the result.\n",
        "\n",
        "That's why for example in TF always exist problems with shapes. Because before running you can get only static shapes, and thus it can make code of the models much harder to read cause you need to use hacks to implement some architectures. In TF2.0(beta) this become even more problematic(and thats, why I moved to PyTorch at that time, because spent time on fight with framework instead of doing work, is not the best plan)\n",
        "\n",
        "**Pros:**\n",
        "* Static graph gives more ways to optimize the inference\n",
        "* Static graph can be implemented in hardware or even [optics](http://www.computationalimaging.org/publications/hybrid-optical-electronic-convolutional-neural-networks/)\n",
        "* They are faster(but not always)\n",
        "* It much simpler to distribute graph on many machines (one of the reasons why PyTorch has problems with running on TPU)\n",
        "\n",
        "**Cons:**\n",
        "* The main purpose of it is fast and distributed inference, but when it comes to development it becomes much harder to build and debug the code.\n",
        "* In most cases code is much cleaner\n",
        "* Some architecture is to complicated when built using a static graph.\n",
        "* It's impossible to have dynamic size Input/Output in RNNs (Before TF2.0, TF was used [Tensorflow Fold](https://github.com/tensorflow/fold) to handle this)\n",
        "\n",
        "#### Dynamic Graph:\n",
        "\n",
        "Do what you want and whenever you want. And this opens very big possibilities in developing bizarre algorithms and architectures.\n",
        "\n",
        "Pros/Cons - just reverse Pros/Cons of static graph :)\n",
        "\n",
        "\n",
        "#### Summary\n",
        "\n",
        "So I would say like this: Static graphs are more for ML Engineers whose main tasks are speed and distribution. And Dynamic graphs are more for ML researches who need simple implementation and debug\n"
      ]
    },
    {
      "cell_type": "markdown",
      "metadata": {
        "id": "Sr6Ntv_YrJbv",
        "colab_type": "text"
      },
      "source": [
        "## Basics\n",
        "\n",
        "PyTorch in comparing with TF has a pretty small module's structure. \n",
        "In our path we will use: \n",
        "* torch - basic ops \n",
        "* torch.Tensor - tensor ops\n",
        "* torch.nn - layers, models, etc\n",
        "* torch.autograd - automatic differentiation\n",
        "* torch.optim - Optimizerss like Adam, SGD, etc\n",
        "* torch.onnx - tools for encode/decode pytorch model to [Onnx format](https://onnx.ai/)\n",
        "* torch.utils - usefull tools like tensorboard\n",
        "\n",
        "\n",
        "The first thing you need to know is that PyTorch has many similar functions as Numpy and you can pass Numpy to Tensor and Tensor to Numpy in a very simple way. "
      ]
    },
    {
      "cell_type": "code",
      "metadata": {
        "id": "3EqmCj_0z-Ou",
        "colab_type": "code",
        "outputId": "6b94277e-a27c-440b-cda8-127a1b0945d2",
        "colab": {
          "base_uri": "https://localhost:8080/",
          "height": 51
        }
      },
      "source": [
        "import torch\n",
        "import numpy\n",
        "\n",
        "a = numpy.array([1, 2, 3])\n",
        "t = torch.as_tensor(a)\n",
        "print(t)\n",
        "print(type(t.numpy()),t.numpy()) # that's the power of PyTorch. Debug as simple as possible"
      ],
      "execution_count": 2,
      "outputs": [
        {
          "output_type": "stream",
          "text": [
            "tensor([1, 2, 3])\n",
            "<class 'numpy.ndarray'> [1 2 3]\n"
          ],
          "name": "stdout"
        }
      ]
    },
    {
      "cell_type": "markdown",
      "metadata": {
        "id": "OL4Lk4xf0mmm",
        "colab_type": "text"
      },
      "source": [
        "**Device** The second thing is that any Tensor is executing on a device that you set, default is CPU. it may sound not very convenient for the first time, but later you understand that it doesn't take any additional time from you, but on the other way give you awesome flexibility of your computation graph."
      ]
    },
    {
      "cell_type": "code",
      "metadata": {
        "id": "VeSIXD5O0ljn",
        "colab_type": "code",
        "outputId": "2dbd2076-8acf-46f3-b5d7-43880ec7ab86",
        "colab": {
          "base_uri": "https://localhost:8080/",
          "height": 34
        }
      },
      "source": [
        "t.device"
      ],
      "execution_count": 3,
      "outputs": [
        {
          "output_type": "execute_result",
          "data": {
            "text/plain": [
              "device(type='cpu')"
            ]
          },
          "metadata": {
            "tags": []
          },
          "execution_count": 3
        }
      ]
    },
    {
      "cell_type": "code",
      "metadata": {
        "id": "DdAUz3Hr02uY",
        "colab_type": "code",
        "outputId": "40d101bf-6042-4f92-f364-527c72de45a7",
        "colab": {
          "base_uri": "https://localhost:8080/",
          "height": 85
        }
      },
      "source": [
        "print('GPU exist:', torch.cuda.is_available())\n",
        "print(t.cuda())\n",
        "# or \n",
        "print(t.to('cuda:0'))\n",
        "# or \n",
        "device = torch.device(\"cuda:0\" if torch.cuda.is_available() else \"cpu\")\n",
        "print(t.to(device))"
      ],
      "execution_count": 4,
      "outputs": [
        {
          "output_type": "stream",
          "text": [
            "GPU exist: True\n",
            "tensor([1, 2, 3], device='cuda:0')\n",
            "tensor([1, 2, 3], device='cuda:0')\n",
            "tensor([1, 2, 3], device='cuda:0')\n"
          ],
          "name": "stdout"
        }
      ]
    },
    {
      "cell_type": "markdown",
      "metadata": {
        "id": "DDbicB4-2QkS",
        "colab_type": "text"
      },
      "source": [
        "**Generators**\n",
        "To make things interpretable as many other libraries PyTorch uses things called Generators which are used to generate random numbers. By default for all functions created default Generator."
      ]
    },
    {
      "cell_type": "code",
      "metadata": {
        "id": "rSDWAmKw2pi5",
        "colab_type": "code",
        "outputId": "eca9cc07-7237-4db0-8fec-8a490cc6644a",
        "colab": {
          "base_uri": "https://localhost:8080/",
          "height": 170
        }
      },
      "source": [
        "print(torch.normal(mean=torch.arange(1., 11.), std=torch.arange(1, 0, -0.1)))\n",
        "print(torch.normal(mean=torch.arange(1., 11.), std=torch.arange(1, 0, -0.1)))\n",
        "\n",
        "\n",
        "g = torch.Generator()\n",
        "g.manual_seed(41)\n",
        "print(g.get_state()) # state is a bytes with which we can restore Generator\n",
        "torch.set_rng_state(g.get_state()) # set our generator as a default by passing it's state\n",
        "print(torch.normal(mean=torch.arange(1., 11.), std=torch.arange(1, 0, -0.1)))\n",
        "\n",
        "g = torch.Generator()\n",
        "g.manual_seed(42)\n",
        "torch.set_rng_state(g.get_state())\n",
        "print(torch.normal(mean=torch.arange(1., 11.), std=torch.arange(1, 0, -0.1)))"
      ],
      "execution_count": 5,
      "outputs": [
        {
          "output_type": "stream",
          "text": [
            "tensor([-0.2761,  0.7204,  3.3902,  4.7622,  4.1789,  5.9194,  6.9040,  7.9562,\n",
            "         8.8076,  9.8564])\n",
            "tensor([0.2663, 1.1778, 3.4568, 4.0629, 3.7537, 6.2979, 7.1356, 8.0108, 9.0327,\n",
            "        9.9291])\n",
            "tensor([41,  0,  0,  ...,  0,  0,  0], dtype=torch.uint8)\n",
            "tensor([1.7906, 1.4231, 3.1328, 4.1087, 4.1234, 6.3121, 7.1997, 8.0247, 9.2689,\n",
            "        9.9400])\n",
            "tensor([ 1.3367,  2.1159,  3.1876,  4.1612,  4.3263,  5.9068,  7.8833,  7.8086,\n",
            "         9.0923, 10.0267])\n"
          ],
          "name": "stdout"
        }
      ]
    },
    {
      "cell_type": "markdown",
      "metadata": {
        "id": "NXrmVDpZrJNf",
        "colab_type": "text"
      },
      "source": [
        "**Serialization**\n",
        "For serialization, PyTorch uses the Pickle module from Python. Thus it has all the same problems with saving classes (problem with saving paths). So when saving data, for example from models use only state dict and not model "
      ]
    },
    {
      "cell_type": "code",
      "metadata": {
        "id": "rRj-wnUUHHEu",
        "colab_type": "code",
        "outputId": "70cede1a-b73d-48b4-a20e-b8612784c54b",
        "colab": {
          "base_uri": "https://localhost:8080/",
          "height": 34
        }
      },
      "source": [
        "x = torch.tensor([0, 1, 2, 3, 4])\n",
        "torch.save(x, 'tensor.pt')\n",
        "y = torch.load('tensor.pt')\n",
        "print(y)"
      ],
      "execution_count": 6,
      "outputs": [
        {
          "output_type": "stream",
          "text": [
            "tensor([0, 1, 2, 3, 4])\n"
          ],
          "name": "stdout"
        }
      ]
    },
    {
      "cell_type": "markdown",
      "metadata": {
        "id": "YzyYEbKFIM0I",
        "colab_type": "text"
      },
      "source": [
        "**Proper way of saving model**\n",
        "\n",
        "```\n",
        "the_model = TheModelClass(*args, **kwargs)\n",
        "...train\n",
        "torch.save(the_model.state_dict(), PATH)\n",
        "\n",
        "the_model = TheModelClass(*args, **kwargs)\n",
        "the_model.load_state_dict(torch.load(PATH))\n",
        "```\n"
      ]
    },
    {
      "cell_type": "markdown",
      "metadata": {
        "id": "m0bFp1A9Kdv0",
        "colab_type": "text"
      },
      "source": [
        "## Autograd - Automatic Differentiation\n",
        "\n",
        "All tensors in PyTorch has the option that says if there is a need to compute the gradient for it. \n",
        "\n",
        "**Why this needed?** \n",
        "While working with simple algorithms like linear regression, we can calculate gradients by ourselves. But as the deepness and hardness of our solution grow it becomes hard and not time efficient to calculate these things manually.\n",
        "\n",
        "Also, the big pain of mathematics functions is that it's very simple to make a typo and very hard to find a mistake. If you will make a mistake in gradient calculation then you can never know what you have but your solution will work worse.\n",
        "\n",
        "So it's much convenient to control the general logic of solution while leaving gradients for Autograd."
      ]
    },
    {
      "cell_type": "code",
      "metadata": {
        "id": "YWcnoKOqOhJf",
        "colab_type": "code",
        "colab": {
          "base_uri": "https://localhost:8080/",
          "height": 34
        },
        "outputId": "ee2121c9-e780-4dd0-8fc6-3512b9fc550f"
      },
      "source": [
        "x = torch.autograd.Variable(torch.FloatTensor([1, 2, 3, 4, 5]), requires_grad=True)\n",
        "# in new version Variable was deprecated and we can use just Tensor\n",
        "x = torch.tensor([1, 2, 3, 4, 5], dtype=torch.float, requires_grad=True)\n",
        "def test(x):\n",
        "    return x * 2\n",
        "y = test(x)\n",
        "# calculating gradient on path\n",
        "# Tensor in the brackets is dummy error response\n",
        "y.backward(torch.Tensor([2,2,2,2,2])) \n",
        "print(x.grad) # getting gradient\n"
      ],
      "execution_count": 7,
      "outputs": [
        {
          "output_type": "stream",
          "text": [
            "tensor([4., 4., 4., 4., 4.])\n"
          ],
          "name": "stdout"
        }
      ]
    },
    {
      "cell_type": "markdown",
      "metadata": {
        "id": "iS9HrH2RP7q-",
        "colab_type": "text"
      },
      "source": [
        "Analytical check \n",
        "```\n",
        "out = 2\n",
        "func = x*2\n",
        "func/dx = 2\n",
        "grad = func/dx * out = 4\n",
        "```\n",
        "If you forget how Backpropagation works you can [read it here](http://cs231n.github.io/optimization-2/) or [watch the lecture of Andrey Karpathy](https://www.youtube.com/watch?v=i94OvYb6noo&list=PLkt2uSq6rBVctENoVBg1TpCC7OQi31AlC&index=4)\n",
        "\n",
        "Let's do the check with Autograd tool. Just remember that for gradient check you should use Float of double precision in other way error will be too big\n"
      ]
    },
    {
      "cell_type": "code",
      "metadata": {
        "id": "j3_YoiUAK7ep",
        "colab_type": "code",
        "outputId": "a1679070-f573-4f30-c1e5-32b173e6f6fc",
        "colab": {
          "base_uri": "https://localhost:8080/",
          "height": 34
        }
      },
      "source": [
        "x = torch.tensor([1, 2, 3, 4, 5], dtype=torch.double, requires_grad=True)\n",
        "def test(x):\n",
        "    return x * 2\n",
        "\n",
        "torch.autograd.gradcheck(test,x)"
      ],
      "execution_count": 8,
      "outputs": [
        {
          "output_type": "execute_result",
          "data": {
            "text/plain": [
              "True"
            ]
          },
          "metadata": {
            "tags": []
          },
          "execution_count": 8
        }
      ]
    },
    {
      "cell_type": "markdown",
      "metadata": {
        "id": "UNmeDhlERdFi",
        "colab_type": "text"
      },
      "source": [
        "Another cool thing that you already should notice, is that u can use python operations with Tensors which makes code much readable\n"
      ]
    },
    {
      "cell_type": "code",
      "metadata": {
        "id": "0DX_2QprLHzU",
        "colab_type": "code",
        "outputId": "1c59bc9d-75ee-4b4b-c2d0-b4ae5b0d3a36",
        "colab": {
          "base_uri": "https://localhost:8080/",
          "height": 34
        }
      },
      "source": [
        "x = torch.tensor([1, 2, 3, 4, 5], dtype=torch.float, requires_grad=True)\n",
        "def test(x):\n",
        "    return (((x * 2)**1.3) + 2.77) / x\n",
        "y = test(x)\n",
        "y.backward(torch.Tensor([2,2,2,2,2])) \n",
        "print(x.grad)"
      ],
      "execution_count": 9,
      "outputs": [
        {
          "output_type": "stream",
          "text": [
            "tensor([-4.0626, -0.4756,  0.0692,  0.2136,  0.2573])\n"
          ],
          "name": "stdout"
        }
      ]
    },
    {
      "cell_type": "markdown",
      "metadata": {
        "id": "y9fuCVVpjVcx",
        "colab_type": "text"
      },
      "source": [
        "How to easily block calculation of gradient, useful for inference mode or transfer learning"
      ]
    },
    {
      "cell_type": "code",
      "metadata": {
        "id": "mhSnds1ojUaK",
        "colab_type": "code",
        "outputId": "14b29d87-e879-48eb-b47c-26a831773529",
        "colab": {
          "base_uri": "https://localhost:8080/",
          "height": 34
        }
      },
      "source": [
        "x = torch.tensor([1, 2, 3, 4, 5], dtype=torch.float, requires_grad=True)\n",
        "def test(x):\n",
        "    return (((x * 2)**1.3) + 2.77) / x\n",
        "with torch.no_grad():\n",
        "    y = test(x)\n",
        "print(y.requires_grad)\n",
        "    "
      ],
      "execution_count": 10,
      "outputs": [
        {
          "output_type": "stream",
          "text": [
            "False\n"
          ],
          "name": "stdout"
        }
      ]
    },
    {
      "cell_type": "markdown",
      "metadata": {
        "id": "WO2EhkdM-t7t",
        "colab_type": "text"
      },
      "source": [
        "**Hooks** Sometimes it's very handy to get the ability to work with gradient and we want to do this in a clear and readable way. That's where PyTorch hooks make a difference\n"
      ]
    },
    {
      "cell_type": "code",
      "metadata": {
        "id": "LOTvGPHM_L48",
        "colab_type": "code",
        "outputId": "60c59e04-79f9-43f5-d451-3c1a04eb0ea3",
        "colab": {
          "base_uri": "https://localhost:8080/",
          "height": 34
        }
      },
      "source": [
        "x = torch.tensor([1, 2, 3, 4, 5], dtype=torch.float, requires_grad=True)\n",
        "def test(x):\n",
        "    return x * 2\n",
        "y = test(x)\n",
        "h = y.register_hook(lambda grad: grad * 2)  # registering backward hook with double the gradient function\n",
        "y.backward(torch.tensor([2.,2.,2.,2.,2.]))\n",
        "x.grad"
      ],
      "execution_count": 11,
      "outputs": [
        {
          "output_type": "execute_result",
          "data": {
            "text/plain": [
              "tensor([8., 8., 8., 8., 8.])"
            ]
          },
          "metadata": {
            "tags": []
          },
          "execution_count": 11
        }
      ]
    },
    {
      "cell_type": "markdown",
      "metadata": {
        "id": "CBFQSTIlTdDV",
        "colab_type": "text"
      },
      "source": [
        "**In-place operations**\n",
        "This type of operation doesn't return new Tensor but changes the data of the current one. In PyTorch, these operations are marked by underscore symbol like torch.add_()\n",
        "\n",
        "These types of operations used only for one thing - lowering memory consumption, but in real-life projects are used not very often."
      ]
    },
    {
      "cell_type": "code",
      "metadata": {
        "id": "6ZHqNDuyR2Gv",
        "colab_type": "code",
        "outputId": "d3f3dd57-b788-4486-9aee-1d0ca9900082",
        "colab": {
          "base_uri": "https://localhost:8080/",
          "height": 51
        }
      },
      "source": [
        "x = torch.tensor([1, 2, 3, 4, 5], dtype=torch.float)\n",
        "x.add_(2)\n",
        "print(x)\n",
        "x = torch.tensor([1, 2, 3, 4, 5], dtype=torch.float)\n",
        "y = x.add(2)\n",
        "print(x,y)"
      ],
      "execution_count": 12,
      "outputs": [
        {
          "output_type": "stream",
          "text": [
            "tensor([3., 4., 5., 6., 7.])\n",
            "tensor([1., 2., 3., 4., 5.]) tensor([3., 4., 5., 6., 7.])\n"
          ],
          "name": "stdout"
        }
      ]
    },
    {
      "cell_type": "markdown",
      "metadata": {
        "id": "8zuxIaskWSTY",
        "colab_type": "text"
      },
      "source": [
        "If you need a custom function you can create it in a very simple way, like this:"
      ]
    },
    {
      "cell_type": "code",
      "metadata": {
        "id": "8kL1K0WVWexj",
        "colab_type": "code",
        "outputId": "90ec38f5-c382-4ef6-97d6-dfc21718922a",
        "colab": {
          "base_uri": "https://localhost:8080/",
          "height": 34
        }
      },
      "source": [
        "class SomeFunction(torch.autograd.Function):\n",
        "\n",
        "    @staticmethod\n",
        "    def forward(ctx, input):\n",
        "        \"\"\"\n",
        "        In the forward pass we receive a Tensor containing the input and return\n",
        "        a Tensor containing the output. ctx is a context object that can be used\n",
        "        to stash information for backward computation. You can cache arbitrary\n",
        "        objects for use in the backward pass using the ctx.save_for_backward method.\n",
        "        \"\"\"\n",
        "        ctx.save_for_backward(input)\n",
        "        return input * 2\n",
        "\n",
        "    @staticmethod\n",
        "    def backward(ctx, grad_output):\n",
        "        \"\"\"\n",
        "        In the backward pass we receive a Tensor containing the gradient of the loss\n",
        "        with respect to the output, and we need to compute the gradient of the loss\n",
        "        with respect to the input.\n",
        "        \"\"\"\n",
        "        input, = ctx.saved_tensors\n",
        "        grad_input = grad_output.clone() * 2\n",
        "        return grad_input\n",
        "    \n",
        "x = torch.tensor([1, 2, 3, 4, 5], dtype=torch.float, requires_grad=True)\n",
        "y = SomeFunction.apply(x) # to use our function we need to call `apply`\n",
        "y.backward(torch.Tensor([2,2,2,2,2]))\n",
        "print(x.grad)"
      ],
      "execution_count": 13,
      "outputs": [
        {
          "output_type": "stream",
          "text": [
            "tensor([4., 4., 4., 4., 4.])\n"
          ],
          "name": "stdout"
        }
      ]
    },
    {
      "cell_type": "markdown",
      "metadata": {
        "id": "nLgVe8u-8Xrx",
        "colab_type": "text"
      },
      "source": [
        "If you have a little bit harder task or need faster execution you can also build C++ or CUDA extensions without big pain in the ass. I will not publish it here cause it out of current context and also [well documented here](https://pytorch.org/tutorials/advanced/cpp_extension.html)"
      ]
    },
    {
      "cell_type": "markdown",
      "metadata": {
        "id": "Fi80p7r-Vtl5",
        "colab_type": "text"
      },
      "source": [
        "## Torch.NN\n",
        "\n",
        "Here are you can find all the things that you need to build your Neural Network\n",
        "\n",
        "So let's try to create our first model. \n",
        "\n",
        "**REMEMBER!** PyTorch use format NCHW(Num, Channels, Height, Width) for data and not NHWC as Tensorflow.\n",
        "This is by default. TF ops can work with this format also see\n",
        "https://www.tensorflow.org/api_docs/python/tf/nn/conv2d (data_format)\n"
      ]
    },
    {
      "cell_type": "code",
      "metadata": {
        "id": "BPqyK2zEUQZR",
        "colab_type": "code",
        "outputId": "13a2ebc6-f1b2-4e84-e6bb-28c446359eb3",
        "colab": {
          "base_uri": "https://localhost:8080/",
          "height": 34
        }
      },
      "source": [
        "import torch.nn as nn\n",
        "import torch.nn.functional as F\n",
        "\n",
        "class Model(nn.Module):\n",
        "    def __init__(self):\n",
        "        '''\n",
        "        Here are you implementing all layers that will be used during forward pass\n",
        "        '''\n",
        "        super(Model, self).__init__()\n",
        "        self.conv1 = nn.Conv2d(1, 20, 5) # input channels, output channels, kernel size\n",
        "        self.conv2 = nn.Conv2d(20, 20, 5)\n",
        "\n",
        "    def forward(self, x):\n",
        "        x = F.relu(self.conv1(x))\n",
        "        return F.relu(self.conv2(x))\n",
        "    \n",
        "# Creating rundom tensor    \n",
        "x = torch.randn([1,1,10,10], dtype=torch.float, requires_grad=True)\n",
        "m = Model()\n",
        "y = m(x)\n",
        "print(y.shape)"
      ],
      "execution_count": 14,
      "outputs": [
        {
          "output_type": "stream",
          "text": [
            "torch.Size([1, 20, 2, 2])\n"
          ],
          "name": "stdout"
        }
      ]
    },
    {
      "cell_type": "markdown",
      "metadata": {
        "id": "KN4lF28gc8D5",
        "colab_type": "text"
      },
      "source": [
        "Also, we can implement Model in Sequential way like in Keras"
      ]
    },
    {
      "cell_type": "code",
      "metadata": {
        "id": "blNn8xjFcK0O",
        "colab_type": "code",
        "outputId": "bb89cc70-0f9a-4a97-8954-0c66c811d114",
        "colab": {
          "base_uri": "https://localhost:8080/",
          "height": 34
        }
      },
      "source": [
        "from collections import OrderedDict\n",
        "# Example of using Sequential\n",
        "model = nn.Sequential(\n",
        "          nn.Conv2d(1,20,5),\n",
        "          nn.ReLU(),\n",
        "          nn.Conv2d(20,20,5),\n",
        "          nn.ReLU()\n",
        "        )\n",
        "\n",
        "# Example of using Sequential with OrderedDict\n",
        "model = nn.Sequential(OrderedDict([\n",
        "          ('conv1', nn.Conv2d(1,20,5)),\n",
        "          ('relu1', nn.ReLU()),\n",
        "          ('conv2', nn.Conv2d(20,20,5)),\n",
        "          ('relu2', nn.ReLU())\n",
        "        ]))\n",
        "\n",
        "x = torch.randn([1,1,10,10], dtype=torch.float, requires_grad=True)\n",
        "y = model(x)\n",
        "print(y.shape)"
      ],
      "execution_count": 15,
      "outputs": [
        {
          "output_type": "stream",
          "text": [
            "torch.Size([1, 20, 2, 2])\n"
          ],
          "name": "stdout"
        }
      ]
    },
    {
      "cell_type": "markdown",
      "metadata": {
        "id": "9DPbRt2zdZim",
        "colab_type": "text"
      },
      "source": [
        "Also, we can group Module and Sequential module together"
      ]
    },
    {
      "cell_type": "code",
      "metadata": {
        "id": "0I0QCsZjdMJa",
        "colab_type": "code",
        "outputId": "46d6307d-de6c-4eb3-8734-295fec9c1077",
        "colab": {
          "base_uri": "https://localhost:8080/",
          "height": 34
        }
      },
      "source": [
        "class Model(nn.Module):\n",
        "    def __init__(self):\n",
        "        super(Model, self).__init__()\n",
        "        self.main = nn.Sequential(\n",
        "          nn.Conv2d(1,20,5),\n",
        "          nn.ReLU(),\n",
        "          nn.Conv2d(20,20,5),\n",
        "        )\n",
        "        self.cl = nn.ModuleList([nn.Conv2d(20, 20, 1) for i in range(2)])\n",
        "        self.act = nn.Tanh()\n",
        "\n",
        "    def forward(self, x):\n",
        "        x = self.main(x)\n",
        "        for e in self.cl:\n",
        "            x = e(x)\n",
        "        return self.act(x)\n",
        "    \n",
        "x = torch.randn([1,1,10,10], dtype=torch.float, requires_grad=True)\n",
        "m = Model()\n",
        "y = m(x)\n",
        "print(y.shape)"
      ],
      "execution_count": 16,
      "outputs": [
        {
          "output_type": "stream",
          "text": [
            "torch.Size([1, 20, 2, 2])\n"
          ],
          "name": "stdout"
        }
      ]
    },
    {
      "cell_type": "code",
      "metadata": {
        "id": "IqfilAvneT1c",
        "colab_type": "code",
        "outputId": "21df08d9-4c7d-4deb-c5fe-e14caee5a92e",
        "colab": {
          "base_uri": "https://localhost:8080/",
          "height": 1000
        }
      },
      "source": [
        "# let's look at the state of our model that cary all weights of the model\n",
        "m.state_dict()"
      ],
      "execution_count": 17,
      "outputs": [
        {
          "output_type": "execute_result",
          "data": {
            "text/plain": [
              "OrderedDict([('main.0.weight',\n",
              "              tensor([[[[-0.1705, -0.0757,  0.1774,  0.0313,  0.0415],\n",
              "                        [-0.0012,  0.0399,  0.1680,  0.0962, -0.0726],\n",
              "                        [ 0.0696, -0.1572, -0.1493,  0.1073, -0.1662],\n",
              "                        [ 0.1102,  0.1598,  0.0759, -0.0003,  0.1256],\n",
              "                        [-0.0079,  0.1752,  0.1395,  0.1546, -0.1991]]],\n",
      
              "              \n",
              "              \n",
              "                      [[[-0.0154, -0.1604, -0.1494, -0.0173, -0.1239],\n",
              "                        [ 0.0226,  0.1428,  0.0980,  0.0405,  0.1940],\n",
              "                        [ 0.0608, -0.0307, -0.1497,  0.0321, -0.1481],\n",
              "                        [-0.0152, -0.1585, -0.0973, -0.0829,  0.0201],\n",
              "                        [ 0.0369, -0.0138, -0.0992, -0.1874,  0.0616]]],\n",
              "              \n",
              "              \n",
              "                      [[[ 0.1868,  0.1346, -0.1343, -0.1724, -0.1732],\n",
              "                        [-0.1399, -0.1316,  0.1848, -0.0542,  0.1031],\n",
              "                        [ 0.0824,  0.0744, -0.1953,  0.1948,  0.1236],\n",
              "                        [-0.1864, -0.1315,  0.0833, -0.0412, -0.1407],\n",
              "                        [ 0.0368, -0.1879,  0.1610,  0.1664,  0.1047]]],\n",

    
              "              \n",
 
              "              \n",
              "                       [[ 0.1695]],\n",
              "              \n",
              "                       [[-0.2002]]]])),\n",
              "             ('cl.1.bias',\n",
              "              tensor([ 0.1951, -0.0111, -0.1901,  0.1074,  0.1504,  0.1029, -0.0619, -0.0883,\n",
              "                       0.0199, -0.1508,  0.0373, -0.1452,  0.0294, -0.0569,  0.1548, -0.2178,\n",
              "                      -0.1463,  0.1231, -0.0841,  0.1683]))])"
            ]
          },
          "metadata": {
            "tags": []
          },
          "execution_count": 17
        }
      ]
    },
    {
      "cell_type": "code",
      "metadata": {
        "id": "Kbs7qt3zhKR6",
        "colab_type": "code",
        "outputId": "85d38388-9dde-4889-ffd4-d7e5ef7c16e3",
        "colab": {
          "base_uri": "https://localhost:8080/",
          "height": 153
        }
      },
      "source": [
        "list(m.children())"
      ],
      "execution_count": 18,
      "outputs": [
        {
          "output_type": "execute_result",
          "data": {
            "text/plain": [
              "[Sequential(\n",
              "   (0): Conv2d(1, 20, kernel_size=(5, 5), stride=(1, 1))\n",
              "   (1): ReLU()\n",
              "   (2): Conv2d(20, 20, kernel_size=(5, 5), stride=(1, 1))\n",
              " ), ModuleList(\n",
              "   (0): Conv2d(20, 20, kernel_size=(1, 1), stride=(1, 1))\n",
              "   (1): Conv2d(20, 20, kernel_size=(1, 1), stride=(1, 1))\n",
              " ), Tanh()]"
            ]
          },
          "metadata": {
            "tags": []
          },
          "execution_count": 18
        }
      ]
    },
    {
      "cell_type": "markdown",
      "metadata": {
        "id": "bCC8VuB1gS00",
        "colab_type": "text"
      },
      "source": [
        "There is no difference in PyTorch between Layer and Model both of them are Modules. The only difference is the Function class that we used before, and the difference from Module is that Function doesn't have state and can implement backward pass.\n",
        "\n",
        "Also as you saw from above, Module includes all weights and params of all it's submodules, the same as if we cast Module to GPU or CPU all submodules also be cast.\n",
        "\n",
        "Now let's see how we can control training/eval flow in Module (this is used for Dropouts, BatchNorm, etc)"
      ]
    },
    {
      "cell_type": "code",
      "metadata": {
        "id": "bea8dmy6eikE",
        "colab_type": "code",
        "outputId": "7eb26f01-53f5-4506-d3a4-3911b2827d55",
        "colab": {
          "base_uri": "https://localhost:8080/",
          "height": 68
        }
      },
      "source": [
        "print(m.training)\n",
        "m.eval()\n",
        "print(m.training)\n",
        "m.train()\n",
        "print(m.training)\n"
      ],
      "execution_count": 19,
      "outputs": [
        {
          "output_type": "stream",
          "text": [
            "True\n",
            "False\n",
            "True\n"
          ],
          "name": "stdout"
        }
      ]
    },
    {
      "cell_type": "markdown",
      "metadata": {
        "id": "wwqRHKLtqQKY",
        "colab_type": "text"
      },
      "source": [
        "**Creating module with custom parameters**\n",
        "Torch.nn.Parameter wrapper make Tensor to be added as a module parameter automatically and thus can be trained when module params passed to the optimizer"
      ]
    },
    {
      "cell_type": "code",
      "metadata": {
        "id": "SXl4qUCzinhg",
        "colab_type": "code",
        "colab": {}
      },
      "source": [
        "class Model(nn.Module):\n",
        "    def __init__(self):\n",
        "        super().__init__()\n",
        "        self.linear = nn.Linear(1,5) \n",
        "        self.alpha = nn.Parameter(torch.ones(1))\n",
        "    \n",
        "    def forward(self, x):\n",
        "        return self.alpha * self.linear(x)"
      ],
      "execution_count": 0,
      "outputs": []
    },
    {
      "cell_type": "markdown",
      "metadata": {
        "id": "pb1PCIHQsqah",
        "colab_type": "text"
      },
      "source": [
        "Let's run small training to see how parameters and optimisation process works"
      ]
    },
    {
      "cell_type": "code",
      "metadata": {
        "id": "Ig_Av2aVsE50",
        "colab_type": "code",
        "outputId": "62f43a9c-dff2-470a-d785-445c45c0247a",
        "colab": {
          "base_uri": "https://localhost:8080/",
          "height": 306
        }
      },
      "source": [
        "import torch\n",
        "import torch.nn as nn\n",
        "import torch.nn.functional as F\n",
        "import torch.optim as optim\n",
        "\n",
        "class Model(nn.Module):\n",
        "    def __init__(self, param=True):\n",
        "        super().__init__()\n",
        "        self.fc1 = nn.Linear(100,20) # FullyConnected layer\n",
        "        self.fc2 = nn.Linear(20,1) \n",
        "\n",
        "        if param:\n",
        "            self.alpha = nn.Parameter(torch.ones(1))\n",
        "        else:\n",
        "            self.alpha = torch.ones(1)\n",
        "\n",
        "    def forward(self, x):\n",
        "        x = self.fc1(x)\n",
        "        return self.alpha * self.fc2(x)\n",
        "\n",
        "def test(param=True):\n",
        "\n",
        "    device = torch.device(\"cpu\")\n",
        "    model = Model(param).to(device)\n",
        "    # we optimizing parameters of our model, other parameters will not be optimised if exist\n",
        "    optimizer = optim.Adam(model.parameters(), lr=1e-3)\n",
        "\n",
        "    x = torch.randn(64, 100, dtype=torch.float)\n",
        "    y = torch.randn(64, 1, dtype=torch.float)\n",
        "    # let's see our alpha param\n",
        "    print('Alpha before',model.alpha)\n",
        "\n",
        "    model.train()\n",
        "    for i in range(100):\n",
        "        # before each iteration we clear all gradients calculated before \n",
        "        optimizer.zero_grad()\n",
        "        output = model(x)\n",
        "        loss = F.mse_loss(output, y)\n",
        "        # calculating gradients\n",
        "        loss.backward()\n",
        "        # optimizing\n",
        "        optimizer.step()\n",
        "        # .item() is simple way to get value from scalar\n",
        "        if i % 25 == 0:\n",
        "            print(i, loss.item())\n",
        "\n",
        "    # saving state of the model\n",
        "    torch.save(model.state_dict(), 'test.pth')\n",
        "\n",
        "    # let's see our alpha param\n",
        "    print('Alpha after',model.alpha)\n",
        "    \n",
        "    \n",
        "print('WITHOUT PARAM')\n",
        "test(False)\n",
        "print()\n",
        "print('WITH PARAM')\n",
        "test(True)"
      ],
      "execution_count": 21,
      "outputs": [
        {
          "output_type": "stream",
          "text": [
            "WITHOUT PARAM\n",
            "Alpha before tensor([1.])\n",
            "0 1.4165371656417847\n",
            "25 0.5825823545455933\n",
            "50 0.21680879592895508\n",
            "75 0.06441058963537216\n",
            "Alpha after tensor([1.])\n",
            "\n",
            "WITH PARAM\n",
            "Alpha before Parameter containing:\n",
            "tensor([1.], requires_grad=True)\n",
            "0 0.9010047316551208\n",
            "25 0.28142839670181274\n",
            "50 0.04832739010453224\n",
            "75 0.00800687912851572\n",
            "Alpha after Parameter containing:\n",
            "tensor([1.0515], requires_grad=True)\n"
          ],
          "name": "stdout"
        }
      ]
    },
    {
      "cell_type": "markdown",
      "metadata": {
        "id": "_lnCkW5kyaFM",
        "colab_type": "text"
      },
      "source": [
        "Now let's load our saved model"
      ]
    },
    {
      "cell_type": "code",
      "metadata": {
        "id": "ST8rNnaktzur",
        "colab_type": "code",
        "outputId": "5d19de63-eea8-4314-b3c0-074ef50f4145",
        "colab": {
          "base_uri": "https://localhost:8080/",
          "height": 51
        }
      },
      "source": [
        "m = Model()\n",
        "m.load_state_dict(torch.load('test.pth'))\n",
        "m.alpha"
      ],
      "execution_count": 22,
      "outputs": [
        {
          "output_type": "execute_result",
          "data": {
            "text/plain": [
              "Parameter containing:\n",
              "tensor([1.0515], requires_grad=True)"
            ]
          },
          "metadata": {
            "tags": []
          },
          "execution_count": 22
        }
      ]
    },
    {
      "cell_type": "markdown",
      "metadata": {
        "id": "QV6B0AEDzb6h",
        "colab_type": "text"
      },
      "source": [
        "There is a small hack that helps during the distribution of models or just saving training arguments.\n",
        "\n",
        "Because the state of the model is a direct you can add any data to it before saving. In such way, you can save training and model arguments. The only thing, you need to remove them from dict before passing to load_state_dict() function.\n",
        "\n",
        "**Setting the layer weights** In PyTorch there is no such thing as in TF/Keras when you set weight initializer in a layer class init call. In PyTorch, you need explicitly set them (of course there is initialization in all standard layers)"
      ]
    },
    {
      "cell_type": "code",
      "metadata": {
        "id": "QlWLV__jyYsO",
        "colab_type": "code",
        "outputId": "ae45328f-0b2e-4a02-d43d-636d684c9dde",
        "colab": {
          "base_uri": "https://localhost:8080/",
          "height": 238
        }
      },
      "source": [
        "x = nn.Linear(1,3)\n",
        "print(x.state_dict())\n",
        "print(x.weight)\n",
        "print(x.bias)\n",
        "x.bias.data = torch.tensor([1.13,1.14,1.15])\n",
        "print('-----------')\n",
        "print(x.state_dict())"
      ],
      "execution_count": 23,
      "outputs": [
        {
          "output_type": "stream",
          "text": [
            "OrderedDict([('weight', tensor([[-0.5073],\n",
            "        [ 0.9527],\n",
            "        [-0.1675]])), ('bias', tensor([-0.0396, -0.4210, -0.5255]))])\n",
            "Parameter containing:\n",
            "tensor([[-0.5073],\n",
            "        [ 0.9527],\n",
            "        [-0.1675]], requires_grad=True)\n",
            "Parameter containing:\n",
            "tensor([-0.0396, -0.4210, -0.5255], requires_grad=True)\n",
            "-----------\n",
            "OrderedDict([('weight', tensor([[-0.5073],\n",
            "        [ 0.9527],\n",
            "        [-0.1675]])), ('bias', tensor([1.1300, 1.1400, 1.1500]))])\n"
          ],
          "name": "stdout"
        }
      ]
    },
    {
      "cell_type": "markdown",
      "metadata": {
        "id": "6ubys5QJDXMB",
        "colab_type": "text"
      },
      "source": [
        "Besides adding this by hand, we can use module **torch.nn.init** that have many init functions already defined"
      ]
    },
    {
      "cell_type": "code",
      "metadata": {
        "id": "cpsY3mm4B5sJ",
        "colab_type": "code",
        "outputId": "ecc77040-097f-4c79-8ca1-7101eaaa2cad",
        "colab": {
          "base_uri": "https://localhost:8080/",
          "height": 136
        }
      },
      "source": [
        "x = nn.Linear(1,3)\n",
        "print(x.state_dict())\n",
        "print('-----------')\n",
        "torch.nn.init.xavier_normal_(x.weight)\n",
        "torch.nn.init.ones_(x.bias)\n",
        "print(x.state_dict())"
      ],
      "execution_count": 24,
      "outputs": [
        {
          "output_type": "stream",
          "text": [
            "OrderedDict([('weight', tensor([[ 0.2648],\n",
            "        [-0.6914],\n",
            "        [ 0.0852]])), ('bias', tensor([ 0.5860, -0.4049,  0.0713]))])\n",
            "-----------\n",
            "OrderedDict([('weight', tensor([[-0.0424],\n",
            "        [ 0.5342],\n",
            "        [ 1.1801]])), ('bias', tensor([1., 1., 1.]))])\n"
          ],
          "name": "stdout"
        }
      ]
    },
    {
      "cell_type": "code",
      "metadata": {
        "id": "uTgPWgwuDttC",
        "colab_type": "code",
        "colab": {}
      },
      "source": [
        ""
      ],
      "execution_count": 0,
      "outputs": []
    },
    {
      "cell_type": "markdown",
      "metadata": {
        "id": "N_7Ptv3ccd6j",
        "colab_type": "text"
      },
      "source": [
        "## Useful libs. Torchvision\n",
        "\n",
        "PyTorch comes up with 3 cool extending libraries: [vision](https://github.com/pytorch/vision), [audio](https://github.com/pytorch/audio), [text](https://github.com/pytorch/text)\n",
        "\n",
        "But as our area is object detection so we will focus on **Torchvision** and also we will use **torch.utils.data** for DataLoader"
      ]
    },
    {
      "cell_type": "code",
      "metadata": {
        "id": "3n_i4byIeeRR",
        "colab_type": "code",
        "colab": {
          "base_uri": "https://localhost:8080/",
          "height": 275
        },
        "outputId": "ff02c197-e0b2-4f67-f30e-b44ede5b91c3"
      },
      "source": [
        "import torchvision\n",
        "from torchvision import transforms\n",
        "simple = transforms.Compose([\n",
        "    transforms.ToTensor(), # converts to [0,1] interval\n",
        "])\n",
        "#let's download MNIST dataset\n",
        "mnist_trainset = torchvision.datasets.MNIST('./mnist', download=True,  transform=simple) "
      ],
      "execution_count": 25,
      "outputs": [
        {
          "output_type": "stream",
          "text": [
            "\r0it [00:00, ?it/s]"
          ],
          "name": "stderr"
        },
        {
          "output_type": "stream",
          "text": [
            "Downloading http://yann.lecun.com/exdb/mnist/train-images-idx3-ubyte.gz to ./mnist/MNIST/raw/train-images-idx3-ubyte.gz\n"
          ],
          "name": "stdout"
        },
        {
          "output_type": "stream",
          "text": [
            "9920512it [00:01, 9745681.02it/s]                            \n"
          ],
          "name": "stderr"
        },
        {
          "output_type": "stream",
          "text": [
            "Extracting ./mnist/MNIST/raw/train-images-idx3-ubyte.gz to ./mnist/MNIST/raw\n"
          ],
          "name": "stdout"
        },
        {
          "output_type": "stream",
          "text": [
            "  0%|          | 0/28881 [00:00<?, ?it/s]"
          ],
          "name": "stderr"
        },
        {
          "output_type": "stream",
          "text": [
            "Downloading http://yann.lecun.com/exdb/mnist/train-labels-idx1-ubyte.gz to ./mnist/MNIST/raw/train-labels-idx1-ubyte.gz\n"
          ],
          "name": "stdout"
        },
        {
          "output_type": "stream",
          "text": [
            "32768it [00:00, 141536.29it/s]           \n",
            "  0%|          | 0/1648877 [00:00<?, ?it/s]"
          ],
          "name": "stderr"
        },
        {
          "output_type": "stream",
          "text": [
            "Extracting ./mnist/MNIST/raw/train-labels-idx1-ubyte.gz to ./mnist/MNIST/raw\n",
            "Downloading http://yann.lecun.com/exdb/mnist/t10k-images-idx3-ubyte.gz to ./mnist/MNIST/raw/t10k-images-idx3-ubyte.gz\n"
          ],
          "name": "stdout"
        },
        {
          "output_type": "stream",
          "text": [
            "1654784it [00:00, 2288659.68it/s]                            \n",
            "0it [00:00, ?it/s]"
          ],
          "name": "stderr"
        },
        {
          "output_type": "stream",
          "text": [
            "Extracting ./mnist/MNIST/raw/t10k-images-idx3-ubyte.gz to ./mnist/MNIST/raw\n",
            "Downloading http://yann.lecun.com/exdb/mnist/t10k-labels-idx1-ubyte.gz to ./mnist/MNIST/raw/t10k-labels-idx1-ubyte.gz\n"
          ],
          "name": "stdout"
        },
        {
          "output_type": "stream",
          "text": [
            "8192it [00:00, 53630.53it/s]            \n"
          ],
          "name": "stderr"
        },
        {
          "output_type": "stream",
          "text": [
            "Extracting ./mnist/MNIST/raw/t10k-labels-idx1-ubyte.gz to ./mnist/MNIST/raw\n",
            "Processing...\n",
            "Done!\n"
          ],
          "name": "stdout"
        }
      ]
    },
    {
      "cell_type": "markdown",
      "metadata": {
        "id": "PC0dGYY7sBgU",
        "colab_type": "text"
      },
      "source": [
        "Now lets load data and look what we get"
      ]
    },
    {
      "cell_type": "code",
      "metadata": {
        "id": "PxRhLHX8kbKH",
        "colab_type": "code",
        "outputId": "5de036b4-d146-499e-9ae0-feaf2757585d",
        "colab": {
          "base_uri": "https://localhost:8080/",
          "height": 554
        }
      },
      "source": [
        "from torch.utils.data import DataLoader\n",
        "import matplotlib.pyplot as plt\n",
        "# now get data loader\n",
        "mnist_loader = DataLoader(mnist_trainset, batch_size=2, pin_memory=True, drop_last=True) \n",
        "for img, label in mnist_loader:\n",
        "    print('is pinned', img.is_pinned())\n",
        "    print(img, label)\n",
        "    plt.imshow(img[0][0])\n",
        "    plt.show()\n",
        "    break"
      ],
      "execution_count": 26,
      "outputs": [
        {
          "output_type": "stream",
          "text": [
            "is pinned True\n",
            "tensor([[[[0., 0., 0.,  ..., 0., 0., 0.],\n",
            "          [0., 0., 0.,  ..., 0., 0., 0.],\n",
            "          [0., 0., 0.,  ..., 0., 0., 0.],\n",
            "          ...,\n",
            "          [0., 0., 0.,  ..., 0., 0., 0.],\n",
            "          [0., 0., 0.,  ..., 0., 0., 0.],\n",
            "          [0., 0., 0.,  ..., 0., 0., 0.]]],\n",
            "\n",
            "\n",
            "        [[[0., 0., 0.,  ..., 0., 0., 0.],\n",
            "          [0., 0., 0.,  ..., 0., 0., 0.],\n",
            "          [0., 0., 0.,  ..., 0., 0., 0.],\n",
            "          ...,\n",
            "          [0., 0., 0.,  ..., 0., 0., 0.],\n",
            "          [0., 0., 0.,  ..., 0., 0., 0.],\n",
            "          [0., 0., 0.,  ..., 0., 0., 0.]]]]) tensor([5, 0])\n"
          ],
          "name": "stdout"
        },
        {
          "output_type": "display_data",
          "data": {
            "image/png": "[encoded data removed]",
            "text/plain": [
              "<Figure size 432x288 with 1 Axes>"
            ]
          },
          "metadata": {
            "tags": []
          }
        }
      ]
    },
    {
      "cell_type": "markdown",
      "metadata": {
        "id": "RQZyQMs1Jzju",
        "colab_type": "text"
      },
      "source": [
        "**pin_memory=True** passed to DataLoader make it put Tesnors to pinned memory which increases the speed of transferring it to CUDA-devices\n",
        "\n",
        "**drop_last=True** make all batches be the same size, in other cases, the last batch can be smaller\n",
        "\n",
        "List of all available datasets you can [find here](https://pytorch.org/docs/stable/torchvision/datasets.html)\n",
        "\n",
        "**Transforms** are used to augment, normalize, convert data. Torchvision transforms using the PIL library.\n",
        "**WARNING!** PIL library has a bad habit to use image color profiles silently, and this leads to many problems in training. So before running any training remove color profiles from images (this can be done with ImageMagick tool: mogrify -strip *.jpg)"
      ]
    },
    {
      "cell_type": "code",
      "metadata": {
        "id": "_sXCd1a6se0-",
        "colab_type": "code",
        "outputId": "c8c81ea6-e150-4caa-b877-f9cde37cecf8",
        "colab": {
          "base_uri": "https://localhost:8080/",
          "height": 403
        }
      },
      "source": [
        "trans = transforms.Compose([\n",
        "    transforms.CenterCrop(10),\n",
        "    transforms.Pad(20, fill=100),\n",
        "    transforms.RandomAffine((-45,45)),\n",
        "    transforms.ToTensor(), # converts to [0,1] interval\n",
        "])\n",
        "#let's download MNIST dataset\n",
        "mnist_trainset = torchvision.datasets.MNIST('./mnist', download=True,  transform=trans) \n",
        "mnist_loader = DataLoader(mnist_trainset, batch_size=1, pin_memory=True, drop_last=True) \n",
        "for img, label in mnist_loader:\n",
        "    print('is pinned', img.is_pinned())\n",
        "    print(img, label)\n",
        "    plt.imshow(img[0][0])\n",
        "    plt.show()\n",
        "    break"
      ],
      "execution_count": 27,
      "outputs": [
        {
          "output_type": "stream",
          "text": [
            "is pinned True\n",
            "tensor([[[[0., 0., 0.,  ..., 0., 0., 0.],\n",
            "          [0., 0., 0.,  ..., 0., 0., 0.],\n",
            "          [0., 0., 0.,  ..., 0., 0., 0.],\n",
            "          ...,\n",
            "          [0., 0., 0.,  ..., 0., 0., 0.],\n",
            "          [0., 0., 0.,  ..., 0., 0., 0.],\n",
            "          [0., 0., 0.,  ..., 0., 0., 0.]]]]) tensor([5])\n"
          ],
          "name": "stdout"
        },
        {
          "output_type": "display_data",
          "data": {
            "image/png": "[encoded data removed]",
            "text/plain": [
              "<Figure size 432x288 with 1 Axes>"
            ]
          },
          "metadata": {
            "tags": []
          }
        }
      ]
    },
    {
      "cell_type": "markdown",
      "metadata": {
        "id": "qBEgsSBuKQwO",
        "colab_type": "text"
      },
      "source": [
        "Of course, you can use other augmentation and transformation libraries. PyTorch doesn't force you to use some internal pipeline or something, its just set of tools and Autograd\n",
        "\n",
        "Another cool thing in that library that it comes up with many state-of-the-art models on classification, object detection, segmentation, face keypoint detection, vide classification."
      ]
    },
    {
      "cell_type": "code",
      "metadata": {
        "id": "RwYvhpl2lDoI",
        "colab_type": "code",
        "outputId": "b4f82322-d521-4200-c4f2-96021a83f24c",
        "colab": {
          "base_uri": "https://localhost:8080/",
          "height": 748
        }
      },
      "source": [
        "model = torchvision.models.vgg16(pretrained=True, progress=True)\n",
        "print(list(model.children()))"
      ],
      "execution_count": 28,
      "outputs": [
        {
          "output_type": "stream",
          "text": [
            "Downloading: \"https://download.pytorch.org/models/vgg16-397923af.pth\" to /root/.cache/torch/checkpoints/vgg16-397923af.pth\n",
            "100%|██████████| 528M/528M [00:13<00:00, 42.4MB/s]\n"
          ],
          "name": "stderr"
        },
        {
          "output_type": "stream",
          "text": [
            "[Sequential(\n",
            "  (0): Conv2d(3, 64, kernel_size=(3, 3), stride=(1, 1), padding=(1, 1))\n",
            "  (1): ReLU(inplace=True)\n",
            "  (2): Conv2d(64, 64, kernel_size=(3, 3), stride=(1, 1), padding=(1, 1))\n",
            "  (3): ReLU(inplace=True)\n",
            "  (4): MaxPool2d(kernel_size=2, stride=2, padding=0, dilation=1, ceil_mode=False)\n",
            "  (5): Conv2d(64, 128, kernel_size=(3, 3), stride=(1, 1), padding=(1, 1))\n",
            "  (6): ReLU(inplace=True)\n",
            "  (7): Conv2d(128, 128, kernel_size=(3, 3), stride=(1, 1), padding=(1, 1))\n",
            "  (8): ReLU(inplace=True)\n",
            "  (9): MaxPool2d(kernel_size=2, stride=2, padding=0, dilation=1, ceil_mode=False)\n",
            "  (10): Conv2d(128, 256, kernel_size=(3, 3), stride=(1, 1), padding=(1, 1))\n",
            "  (11): ReLU(inplace=True)\n",
            "  (12): Conv2d(256, 256, kernel_size=(3, 3), stride=(1, 1), padding=(1, 1))\n",
            "  (13): ReLU(inplace=True)\n",
            "  (14): Conv2d(256, 256, kernel_size=(3, 3), stride=(1, 1), padding=(1, 1))\n",
            "  (15): ReLU(inplace=True)\n",
            "  (16): MaxPool2d(kernel_size=2, stride=2, padding=0, dilation=1, ceil_mode=False)\n",
            "  (17): Conv2d(256, 512, kernel_size=(3, 3), stride=(1, 1), padding=(1, 1))\n",
            "  (18): ReLU(inplace=True)\n",
            "  (19): Conv2d(512, 512, kernel_size=(3, 3), stride=(1, 1), padding=(1, 1))\n",
            "  (20): ReLU(inplace=True)\n",
            "  (21): Conv2d(512, 512, kernel_size=(3, 3), stride=(1, 1), padding=(1, 1))\n",
            "  (22): ReLU(inplace=True)\n",
            "  (23): MaxPool2d(kernel_size=2, stride=2, padding=0, dilation=1, ceil_mode=False)\n",
            "  (24): Conv2d(512, 512, kernel_size=(3, 3), stride=(1, 1), padding=(1, 1))\n",
            "  (25): ReLU(inplace=True)\n",
            "  (26): Conv2d(512, 512, kernel_size=(3, 3), stride=(1, 1), padding=(1, 1))\n",
            "  (27): ReLU(inplace=True)\n",
            "  (28): Conv2d(512, 512, kernel_size=(3, 3), stride=(1, 1), padding=(1, 1))\n",
            "  (29): ReLU(inplace=True)\n",
            "  (30): MaxPool2d(kernel_size=2, stride=2, padding=0, dilation=1, ceil_mode=False)\n",
            "), AdaptiveAvgPool2d(output_size=(7, 7)), Sequential(\n",
            "  (0): Linear(in_features=25088, out_features=4096, bias=True)\n",
            "  (1): ReLU(inplace=True)\n",
            "  (2): Dropout(p=0.5, inplace=False)\n",
            "  (3): Linear(in_features=4096, out_features=4096, bias=True)\n",
            "  (4): ReLU(inplace=True)\n",
            "  (5): Dropout(p=0.5, inplace=False)\n",
            "  (6): Linear(in_features=4096, out_features=1000, bias=True)\n",
            ")]\n"
          ],
          "name": "stdout"
        }
      ]
    },
    {
      "cell_type": "markdown",
      "metadata": {
        "id": "6DFepLuWLvgQ",
        "colab_type": "text"
      },
      "source": [
        "As you see model consist of two blocks features and classifier which makes much simpler to make feature extractor from the model"
      ]
    },
    {
      "cell_type": "code",
      "metadata": {
        "id": "4yH4QVP-LB8S",
        "colab_type": "code",
        "outputId": "f71b84a9-ea2d-431b-a0c9-b70cb4d91afd",
        "colab": {
          "base_uri": "https://localhost:8080/",
          "height": 68
        }
      },
      "source": [
        "model = torchvision.models.vgg16(pretrained=True, progress=True)\n",
        "x = torch.randn((1,3,256,256))\n",
        "y = model(x)\n",
        "print(y.shape)\n",
        "\n",
        "y = model.features(x)\n",
        "print(y.shape)\n",
        "\n",
        "# using forward hook\n",
        "outputs = []\n",
        "def hook(module, input, output):\n",
        "    outputs.append(output)\n",
        "\n",
        "model.features[3].register_forward_hook(hook)\n",
        "model(x)\n",
        "print(outputs[0].shape)"
      ],
      "execution_count": 29,
      "outputs": [
        {
          "output_type": "stream",
          "text": [
            "torch.Size([1, 1000])\n",
            "torch.Size([1, 512, 8, 8])\n",
            "torch.Size([1, 64, 256, 256])\n"
          ],
          "name": "stdout"
        }
      ]
    },
    {
      "cell_type": "markdown",
      "metadata": {
        "id": "eiuN5YgsO-9h",
        "colab_type": "text"
      },
      "source": [
        "In some situation, there is a need to cut a network (if you need output from some exact layer)"
      ]
    },
    {
      "cell_type": "code",
      "metadata": {
        "id": "_c-UpH0eM0jJ",
        "colab_type": "code",
        "outputId": "61e34c5d-fb96-4c18-8dba-c5029201e91d",
        "colab": {
          "base_uri": "https://localhost:8080/",
          "height": 238
        }
      },
      "source": [
        "model = torchvision.models.vgg16(pretrained=True, progress=True)\n",
        "new_model = torch.nn.Sequential(*(list(model.features.modules())[0][:10]))\n",
        "print(list(model.features.modules())[0][:10])\n",
        "x = torch.randn((1,3,256,256))\n",
        "y = new_model(x)\n",
        "print(y.shape)"
      ],
      "execution_count": 30,
      "outputs": [
        {
          "output_type": "stream",
          "text": [
            "Sequential(\n",
            "  (0): Conv2d(3, 64, kernel_size=(3, 3), stride=(1, 1), padding=(1, 1))\n",
            "  (1): ReLU(inplace=True)\n",
            "  (2): Conv2d(64, 64, kernel_size=(3, 3), stride=(1, 1), padding=(1, 1))\n",
            "  (3): ReLU(inplace=True)\n",
            "  (4): MaxPool2d(kernel_size=2, stride=2, padding=0, dilation=1, ceil_mode=False)\n",
            "  (5): Conv2d(64, 128, kernel_size=(3, 3), stride=(1, 1), padding=(1, 1))\n",
            "  (6): ReLU(inplace=True)\n",
            "  (7): Conv2d(128, 128, kernel_size=(3, 3), stride=(1, 1), padding=(1, 1))\n",
            "  (8): ReLU(inplace=True)\n",
            "  (9): MaxPool2d(kernel_size=2, stride=2, padding=0, dilation=1, ceil_mode=False)\n",
            ")\n",
            "torch.Size([1, 128, 64, 64])\n"
          ],
          "name": "stdout"
        }
      ]
    },
    {
      "cell_type": "code",
      "metadata": {
        "id": "tHPbdXc8PUWD",
        "colab_type": "code",
        "outputId": "f97fce01-2679-4db6-c5ad-c20dc165cb28",
        "colab": {
          "base_uri": "https://localhost:8080/",
          "height": 286
        }
      },
      "source": [
        "# fast way to plot images in a grid\n",
        "import matplotlib.pyplot as plt\n",
        "import numpy as np\n",
        "def show(img):\n",
        "    npimg = img.numpy()\n",
        "    plt.imshow(np.transpose(npimg, (1,2,0)), interpolation='nearest')\n",
        "\n",
        "x = torch.randn((12,3,256,256))\n",
        "show(torchvision.utils.make_grid(x, nrow=3, padding=20))"
      ],
      "execution_count": 31,
      "outputs": [
        {
          "output_type": "stream",
          "text": [
            "Clipping input data to the valid range for imshow with RGB data ([0..1] for floats or [0..255] for integers).\n"
          ],
          "name": "stderr"
        },
        {
          "output_type": "display_data",
          "data": {
            "image/png": "[encoded data removed]",
            "text/plain": [
              "<Figure size 432x288 with 1 Axes>"
            ]
          },
          "metadata": {
            "tags": []
          }
        }
      ]
    },
    {
      "cell_type": "markdown",
      "metadata": {
        "id": "agkthfY9oxFd",
        "colab_type": "text"
      },
      "source": [
        "Also Torchvision implements few operations that useful during object detection. Like [Non-Maxima Supression(NMS), ROI Align, ROI Pool](https://pytorch.org/docs/stable/torchvision/ops.html)\n"
      ]
    },
    {
      "cell_type": "markdown",
      "metadata": {
        "id": "yWALcKGevUXp",
        "colab_type": "text"
      },
      "source": [
        "## PyTorch.HUB\n",
        "\n",
        "Another cool thing that copying the idea of TF.Hub. It's a place where you can publish and use pretrained models\n",
        "\n",
        "https://pytorch.org/hub"
      ]
    },
    {
      "cell_type": "code",
      "metadata": {
        "id": "zegL5ul3VHEG",
        "colab_type": "code",
        "outputId": "9399bc6a-6d0a-4ccd-c8d4-9ba964dfec61",
        "colab": {
          "base_uri": "https://localhost:8080/",
          "height": 1000
        }
      },
      "source": [
        "model = torch.hub.load('pytorch/vision', 'resnet18', pretrained=True)\n",
        "print(list(model.children()))"
      ],
      "execution_count": 32,
      "outputs": [
        {
          "output_type": "stream",
          "text": [
            "Downloading: \"https://github.com/pytorch/vision/archive/master.zip\" to /root/.cache/torch/hub/master.zip\n",
            "Downloading: \"https://download.pytorch.org/models/resnet18-5c106cde.pth\" to /root/.cache/torch/checkpoints/resnet18-5c106cde.pth\n",
            "100%|██████████| 44.7M/44.7M [00:01<00:00, 45.6MB/s]\n"
          ],
          "name": "stderr"
        },
        {
          "output_type": "stream",
          "text": [
            "[Conv2d(3, 64, kernel_size=(7, 7), stride=(2, 2), padding=(3, 3), bias=False), BatchNorm2d(64, eps=1e-05, momentum=0.1, affine=True, track_running_stats=True), ReLU(inplace=True), MaxPool2d(kernel_size=3, stride=2, padding=1, dilation=1, ceil_mode=False), Sequential(\n",
            "  (0): BasicBlock(\n",
            "    (conv1): Conv2d(64, 64, kernel_size=(3, 3), stride=(1, 1), padding=(1, 1), bias=False)\n",
            "    (bn1): BatchNorm2d(64, eps=1e-05, momentum=0.1, affine=True, track_running_stats=True)\n",
            "    (relu): ReLU(inplace=True)\n",
            "    (conv2): Conv2d(64, 64, kernel_size=(3, 3), stride=(1, 1), padding=(1, 1), bias=False)\n",
            "    (bn2): BatchNorm2d(64, eps=1e-05, momentum=0.1, affine=True, track_running_stats=True)\n",
            "  )\n",
            "  (1): BasicBlock(\n",
            "    (conv1): Conv2d(64, 64, kernel_size=(3, 3), stride=(1, 1), padding=(1, 1), bias=False)\n",
            "    (bn1): BatchNorm2d(64, eps=1e-05, momentum=0.1, affine=True, track_running_stats=True)\n",
            "    (relu): ReLU(inplace=True)\n",
            "    (conv2): Conv2d(64, 64, kernel_size=(3, 3), stride=(1, 1), padding=(1, 1), bias=False)\n",
            "    (bn2): BatchNorm2d(64, eps=1e-05, momentum=0.1, affine=True, track_running_stats=True)\n",
            "  )\n",
            "), Sequential(\n",
            "  (0): BasicBlock(\n",
            "    (conv1): Conv2d(64, 128, kernel_size=(3, 3), stride=(2, 2), padding=(1, 1), bias=False)\n",
            "    (bn1): BatchNorm2d(128, eps=1e-05, momentum=0.1, affine=True, track_running_stats=True)\n",
            "    (relu): ReLU(inplace=True)\n",
            "    (conv2): Conv2d(128, 128, kernel_size=(3, 3), stride=(1, 1), padding=(1, 1), bias=False)\n",
            "    (bn2): BatchNorm2d(128, eps=1e-05, momentum=0.1, affine=True, track_running_stats=True)\n",
            "    (downsample): Sequential(\n",
            "      (0): Conv2d(64, 128, kernel_size=(1, 1), stride=(2, 2), bias=False)\n",
            "      (1): BatchNorm2d(128, eps=1e-05, momentum=0.1, affine=True, track_running_stats=True)\n",
            "    )\n",
            "  )\n",
            "  (1): BasicBlock(\n",
            "    (conv1): Conv2d(128, 128, kernel_size=(3, 3), stride=(1, 1), padding=(1, 1), bias=False)\n",
            "    (bn1): BatchNorm2d(128, eps=1e-05, momentum=0.1, affine=True, track_running_stats=True)\n",
            "    (relu): ReLU(inplace=True)\n",
            "    (conv2): Conv2d(128, 128, kernel_size=(3, 3), stride=(1, 1), padding=(1, 1), bias=False)\n",
            "    (bn2): BatchNorm2d(128, eps=1e-05, momentum=0.1, affine=True, track_running_stats=True)\n",
            "  )\n",
            "), Sequential(\n",
            "  (0): BasicBlock(\n",
            "    (conv1): Conv2d(128, 256, kernel_size=(3, 3), stride=(2, 2), padding=(1, 1), bias=False)\n",
            "    (bn1): BatchNorm2d(256, eps=1e-05, momentum=0.1, affine=True, track_running_stats=True)\n",
            "    (relu): ReLU(inplace=True)\n",
            "    (conv2): Conv2d(256, 256, kernel_size=(3, 3), stride=(1, 1), padding=(1, 1), bias=False)\n",
            "    (bn2): BatchNorm2d(256, eps=1e-05, momentum=0.1, affine=True, track_running_stats=True)\n",
            "    (downsample): Sequential(\n",
            "      (0): Conv2d(128, 256, kernel_size=(1, 1), stride=(2, 2), bias=False)\n",
            "      (1): BatchNorm2d(256, eps=1e-05, momentum=0.1, affine=True, track_running_stats=True)\n",
            "    )\n",
            "  )\n",
            "  (1): BasicBlock(\n",
            "    (conv1): Conv2d(256, 256, kernel_size=(3, 3), stride=(1, 1), padding=(1, 1), bias=False)\n",
            "    (bn1): BatchNorm2d(256, eps=1e-05, momentum=0.1, affine=True, track_running_stats=True)\n",
            "    (relu): ReLU(inplace=True)\n",
            "    (conv2): Conv2d(256, 256, kernel_size=(3, 3), stride=(1, 1), padding=(1, 1), bias=False)\n",
            "    (bn2): BatchNorm2d(256, eps=1e-05, momentum=0.1, affine=True, track_running_stats=True)\n",
            "  )\n",
            "), Sequential(\n",
            "  (0): BasicBlock(\n",
            "    (conv1): Conv2d(256, 512, kernel_size=(3, 3), stride=(2, 2), padding=(1, 1), bias=False)\n",
            "    (bn1): BatchNorm2d(512, eps=1e-05, momentum=0.1, affine=True, track_running_stats=True)\n",
            "    (relu): ReLU(inplace=True)\n",
            "    (conv2): Conv2d(512, 512, kernel_size=(3, 3), stride=(1, 1), padding=(1, 1), bias=False)\n",
            "    (bn2): BatchNorm2d(512, eps=1e-05, momentum=0.1, affine=True, track_running_stats=True)\n",
            "    (downsample): Sequential(\n",
            "      (0): Conv2d(256, 512, kernel_size=(1, 1), stride=(2, 2), bias=False)\n",
            "      (1): BatchNorm2d(512, eps=1e-05, momentum=0.1, affine=True, track_running_stats=True)\n",
            "    )\n",
            "  )\n",
            "  (1): BasicBlock(\n",
            "    (conv1): Conv2d(512, 512, kernel_size=(3, 3), stride=(1, 1), padding=(1, 1), bias=False)\n",
            "    (bn1): BatchNorm2d(512, eps=1e-05, momentum=0.1, affine=True, track_running_stats=True)\n",
            "    (relu): ReLU(inplace=True)\n",
            "    (conv2): Conv2d(512, 512, kernel_size=(3, 3), stride=(1, 1), padding=(1, 1), bias=False)\n",
            "    (bn2): BatchNorm2d(512, eps=1e-05, momentum=0.1, affine=True, track_running_stats=True)\n",
            "  )\n",
            "), AdaptiveAvgPool2d(output_size=(1, 1)), Linear(in_features=512, out_features=1000, bias=True)]\n"
          ],
          "name": "stdout"
        }
      ]
    },
    {
      "cell_type": "markdown",
      "metadata": {
        "id": "W-DN5dtAweg2",
        "colab_type": "text"
      },
      "source": [
        "## Ecosystem\n",
        "\n",
        "PyTorch is growing fast and with each day something new and interesting coming out.\n",
        "\n",
        "You can check it here:\n",
        "https://pytorch.org/ecosystem\n",
        "\n",
        "# Summary and small homework\n",
        "\n",
        "Today we made a small step in the way of simple development of ML solutions, we learned basic blocks of PyTorch, and i hope to understand the power behind its simplicity.\n",
        "\n",
        "To get some practical fixation I propose you to write some simple AutoEncoder that will use the MNIST dataset and which should remove Gaussian noise from input images(don't forget to add it :) ). \n",
        "If you don't know what is AutoEncoder you can check this tutorial for Keras \n",
        "https://blog.keras.io/building-autoencoders-in-keras.html\n",
        "\n",
        "For those who want something bigger, you can try to write a Style Transfer Model.\n",
        "Here is an example in TensorFlow: https://www.tensorflow.org/tutorials/generative/style_transfer\n",
        "\n",
        "The main target of this homework is so you understand how to use different parts of PyTorch to build a network. The quality of the results of networks is not needed.\n",
        "\n",
        "Questions can be asked here: https://github.com/learnml-today/object-detection-with-pytorch"
      ]
    },
    {
      "cell_type": "code",
      "metadata": {
        "id": "3gygGkxPvrW3",
        "colab_type": "code",
        "colab": {}
      },
      "source": [
        ""
      ],
      "execution_count": 0,
      "outputs": []
    }
  ]
}
